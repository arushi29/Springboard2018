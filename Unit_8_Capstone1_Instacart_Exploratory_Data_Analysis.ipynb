{
 "cells": [
  {
   "cell_type": "markdown",
   "metadata": {},
   "source": [
    "**Capstone 1  -  Instacart Market Basket Analysis**\n",
    "\n",
    "Instacart is a U.S. based company that provides same-day grocery delivery service. It provides the customers an option to choose the grocery store they want their groceries through the item list, select the items and get it hand-delivered by a personal shopper. The company offers the services both through their website as well their app.\n",
    "\n",
    "They have over 3 million transactional data of multiple shoppers located across the United States. \n",
    "\n",
    "**Problem Statement**\n",
    "Instacart wants to leverage this data to build a model that can predict which previously purchased products will be in a user’s next order. This will help the company strategize where to show the previously ordered items on their page or app.The model will also help recommend items for users while they are browsing.\n"
   ]
  },
  {
   "cell_type": "code",
   "execution_count": 84,
   "metadata": {},
   "outputs": [],
   "source": [
    "#Import the necessary modules\n",
    "import pandas as pd\n",
    "import numpy as np\n",
    "import matplotlib.pyplot as plt\n",
    "import statsmodels.stats.weightstats as ssw\n",
    "import seaborn as sns\n",
    "import statsmodels.stats.proportion as ssp\n",
    "color = sns.color_palette()\n",
    "from scipy.stats import norm\n",
    "from scipy.stats import normaltest\n",
    "from statsmodels.stats.weightstats import ztest\n",
    "from scipy import stats\n",
    "import math\n",
    "import statsmodels.stats.api as sms"
   ]
  },
  {
   "cell_type": "code",
   "execution_count": 60,
   "metadata": {},
   "outputs": [],
   "source": [
    "#Import the files\n",
    "#files provided - aisles, products,departments,orders_prior,orders\n",
    "\n",
    "#aisles\n",
    "aisles = pd.read_csv('aisles.csv')\n",
    "#importing the departments file\n",
    "departments= pd.read_csv('departments.csv')\n",
    "# importing the products file\n",
    "#products\n",
    "products =pd.read_csv(\"products.csv\")\n",
    "#orders_prior\n",
    "#importing the orders_prior file\n",
    "orders_prior =pd.read_csv(\"order_products__prior.csv\")\n",
    "#5\n",
    "#importing the orders_train file\n",
    "order_train = pd.read_csv('order_products__train.csv')\n",
    "#6 orders\n",
    "orders = pd.read_csv('orders.csv')"
   ]
  },
  {
   "cell_type": "code",
   "execution_count": 61,
   "metadata": {},
   "outputs": [
    {
     "data": {
      "text/plain": [
       "131209"
      ]
     },
     "execution_count": 61,
     "metadata": {},
     "output_type": "execute_result"
    }
   ],
   "source": [
    "orders_train_sub = orders[(orders['eval_set'] == 'train')]\n",
    "len(orders_train_sub)"
   ]
  },
  {
   "cell_type": "code",
   "execution_count": 62,
   "metadata": {},
   "outputs": [
    {
     "data": {
      "text/html": [
       "<div>\n",
       "<style scoped>\n",
       "    .dataframe tbody tr th:only-of-type {\n",
       "        vertical-align: middle;\n",
       "    }\n",
       "\n",
       "    .dataframe tbody tr th {\n",
       "        vertical-align: top;\n",
       "    }\n",
       "\n",
       "    .dataframe thead th {\n",
       "        text-align: right;\n",
       "    }\n",
       "</style>\n",
       "<table border=\"1\" class=\"dataframe\">\n",
       "  <thead>\n",
       "    <tr style=\"text-align: right;\">\n",
       "      <th></th>\n",
       "      <th>order_id</th>\n",
       "      <th>user_id</th>\n",
       "      <th>eval_set</th>\n",
       "      <th>order_number</th>\n",
       "      <th>order_dow</th>\n",
       "      <th>order_hour_of_day</th>\n",
       "      <th>days_since_prior_order</th>\n",
       "    </tr>\n",
       "  </thead>\n",
       "  <tbody>\n",
       "    <tr>\n",
       "      <th>10</th>\n",
       "      <td>1187899</td>\n",
       "      <td>1</td>\n",
       "      <td>train</td>\n",
       "      <td>11</td>\n",
       "      <td>4</td>\n",
       "      <td>8</td>\n",
       "      <td>14.0</td>\n",
       "    </tr>\n",
       "    <tr>\n",
       "      <th>25</th>\n",
       "      <td>1492625</td>\n",
       "      <td>2</td>\n",
       "      <td>train</td>\n",
       "      <td>15</td>\n",
       "      <td>1</td>\n",
       "      <td>11</td>\n",
       "      <td>30.0</td>\n",
       "    </tr>\n",
       "    <tr>\n",
       "      <th>49</th>\n",
       "      <td>2196797</td>\n",
       "      <td>5</td>\n",
       "      <td>train</td>\n",
       "      <td>5</td>\n",
       "      <td>0</td>\n",
       "      <td>11</td>\n",
       "      <td>6.0</td>\n",
       "    </tr>\n",
       "    <tr>\n",
       "      <th>74</th>\n",
       "      <td>525192</td>\n",
       "      <td>7</td>\n",
       "      <td>train</td>\n",
       "      <td>21</td>\n",
       "      <td>2</td>\n",
       "      <td>11</td>\n",
       "      <td>6.0</td>\n",
       "    </tr>\n",
       "    <tr>\n",
       "      <th>78</th>\n",
       "      <td>880375</td>\n",
       "      <td>8</td>\n",
       "      <td>train</td>\n",
       "      <td>4</td>\n",
       "      <td>1</td>\n",
       "      <td>14</td>\n",
       "      <td>10.0</td>\n",
       "    </tr>\n",
       "  </tbody>\n",
       "</table>\n",
       "</div>"
      ],
      "text/plain": [
       "    order_id  user_id eval_set  order_number  order_dow  order_hour_of_day  \\\n",
       "10   1187899        1    train            11          4                  8   \n",
       "25   1492625        2    train            15          1                 11   \n",
       "49   2196797        5    train             5          0                 11   \n",
       "74    525192        7    train            21          2                 11   \n",
       "78    880375        8    train             4          1                 14   \n",
       "\n",
       "    days_since_prior_order  \n",
       "10                    14.0  \n",
       "25                    30.0  \n",
       "49                     6.0  \n",
       "74                     6.0  \n",
       "78                    10.0  "
      ]
     },
     "execution_count": 62,
     "metadata": {},
     "output_type": "execute_result"
    }
   ],
   "source": [
    "orders_train_sub.head()"
   ]
  },
  {
   "cell_type": "code",
   "execution_count": 63,
   "metadata": {},
   "outputs": [],
   "source": [
    "# Merging files\n",
    "#merging product with aisle and department files\n",
    "\n",
    "products_a = pd.merge(products,aisles,on='aisle_id')"
   ]
  },
  {
   "cell_type": "code",
   "execution_count": 64,
   "metadata": {},
   "outputs": [
    {
     "name": "stdout",
     "output_type": "stream",
     "text": [
      "<class 'pandas.core.frame.DataFrame'>\n",
      "Int64Index: 49688 entries, 0 to 49687\n",
      "Data columns (total 6 columns):\n",
      "product_id       49688 non-null int64\n",
      "product_name     49688 non-null object\n",
      "aisle_id         49688 non-null int64\n",
      "department_id    49688 non-null int64\n",
      "aisle            49688 non-null object\n",
      "department       49688 non-null object\n",
      "dtypes: int64(3), object(3)\n",
      "memory usage: 2.7+ MB\n"
     ]
    }
   ],
   "source": [
    "# merging with departments file\n",
    "products_all =pd.merge(products_a,departments,left_on = 'department_id'\n",
    "                       ,right_on = 'department_id',how='left',suffixes = ('_x', '_y'))\n",
    "products_all.info()"
   ]
  },
  {
   "cell_type": "code",
   "execution_count": 65,
   "metadata": {},
   "outputs": [],
   "source": [
    "orders_prior_p=orders_prior_p.drop_duplicates()"
   ]
  },
  {
   "cell_type": "code",
   "execution_count": 66,
   "metadata": {},
   "outputs": [
    {
     "name": "stdout",
     "output_type": "stream",
     "text": [
      "<class 'pandas.core.frame.DataFrame'>\n",
      "Int64Index: 32434489 entries, 0 to 32434488\n",
      "Data columns (total 15 columns):\n",
      "product_id                int64\n",
      "product_name              object\n",
      "aisle_id                  int64\n",
      "department_id             int64\n",
      "aisle                     object\n",
      "department                object\n",
      "order_id                  float64\n",
      "add_to_cart_order         float64\n",
      "reordered                 float64\n",
      "user_id                   int64\n",
      "eval_set                  object\n",
      "order_number              int64\n",
      "order_dow                 int64\n",
      "order_hour_of_day         int64\n",
      "days_since_prior_order    float64\n",
      "dtypes: float64(4), int64(7), object(4)\n",
      "memory usage: 3.9+ GB\n"
     ]
    }
   ],
   "source": [
    "#orders table - merge with orders_train to get other variables\n",
    "orders_all = pd.merge(orders_prior_p,orders,left_on= 'order_id',right_on='order_id',how=\"inner\")\n",
    "orders_all.info()"
   ]
  },
  {
   "cell_type": "markdown",
   "metadata": {},
   "source": [
    "**From the previous EDA, we had noticed the following trends**\n",
    "\n",
    "Most items are ordered from the produce department\n",
    "\n",
    "Instacart gets more orders on Sundays and Saturdays\n",
    "\n",
    "Let us check we can prove this statistically\n",
    "\n",
    "Assuming null hypothesis - There is no difference between the number of orders which have prooduce items \n",
    "between a weekday and a weekend\n",
    "\n",
    "Alternate hypothesis - There is a significant difference between the number of orders which have prooduce items \n",
    "between a weekday and a weekend"
   ]
  },
  {
   "cell_type": "code",
   "execution_count": 67,
   "metadata": {},
   "outputs": [],
   "source": [
    "#create the order sets for weekdays and weekend\n",
    "week = [1,2,3,4,5]\n",
    "weekend = [0,6]\n",
    "orders_week = orders_all[orders_all.order_dow.isin(week)]\n",
    "orders_weekend = orders_all[orders_all.order_dow.isin(weekend)]"
   ]
  },
  {
   "cell_type": "code",
   "execution_count": 68,
   "metadata": {},
   "outputs": [
    {
     "data": {
      "text/html": [
       "<div>\n",
       "<style scoped>\n",
       "    .dataframe tbody tr th:only-of-type {\n",
       "        vertical-align: middle;\n",
       "    }\n",
       "\n",
       "    .dataframe tbody tr th {\n",
       "        vertical-align: top;\n",
       "    }\n",
       "\n",
       "    .dataframe thead th {\n",
       "        text-align: right;\n",
       "    }\n",
       "</style>\n",
       "<table border=\"1\" class=\"dataframe\">\n",
       "  <thead>\n",
       "    <tr style=\"text-align: right;\">\n",
       "      <th></th>\n",
       "      <th>product_id</th>\n",
       "      <th>product_name</th>\n",
       "      <th>aisle_id</th>\n",
       "      <th>department_id</th>\n",
       "      <th>aisle</th>\n",
       "      <th>department</th>\n",
       "      <th>order_id</th>\n",
       "      <th>add_to_cart_order</th>\n",
       "      <th>reordered</th>\n",
       "      <th>user_id</th>\n",
       "      <th>eval_set</th>\n",
       "      <th>order_number</th>\n",
       "      <th>order_dow</th>\n",
       "      <th>order_hour_of_day</th>\n",
       "      <th>days_since_prior_order</th>\n",
       "    </tr>\n",
       "  </thead>\n",
       "  <tbody>\n",
       "    <tr>\n",
       "      <th>0</th>\n",
       "      <td>1</td>\n",
       "      <td>Chocolate Sandwich Cookies</td>\n",
       "      <td>61</td>\n",
       "      <td>19</td>\n",
       "      <td>cookies cakes</td>\n",
       "      <td>snacks</td>\n",
       "      <td>1107.0</td>\n",
       "      <td>7.0</td>\n",
       "      <td>0.0</td>\n",
       "      <td>38259</td>\n",
       "      <td>prior</td>\n",
       "      <td>2</td>\n",
       "      <td>1</td>\n",
       "      <td>11</td>\n",
       "      <td>7.0</td>\n",
       "    </tr>\n",
       "    <tr>\n",
       "      <th>1</th>\n",
       "      <td>9007</td>\n",
       "      <td>Frosted Flakes</td>\n",
       "      <td>121</td>\n",
       "      <td>14</td>\n",
       "      <td>cereal</td>\n",
       "      <td>breakfast</td>\n",
       "      <td>1107.0</td>\n",
       "      <td>17.0</td>\n",
       "      <td>0.0</td>\n",
       "      <td>38259</td>\n",
       "      <td>prior</td>\n",
       "      <td>2</td>\n",
       "      <td>1</td>\n",
       "      <td>11</td>\n",
       "      <td>7.0</td>\n",
       "    </tr>\n",
       "    <tr>\n",
       "      <th>2</th>\n",
       "      <td>32689</td>\n",
       "      <td>Romaine Hearts</td>\n",
       "      <td>123</td>\n",
       "      <td>4</td>\n",
       "      <td>packaged vegetables fruits</td>\n",
       "      <td>produce</td>\n",
       "      <td>1107.0</td>\n",
       "      <td>16.0</td>\n",
       "      <td>0.0</td>\n",
       "      <td>38259</td>\n",
       "      <td>prior</td>\n",
       "      <td>2</td>\n",
       "      <td>1</td>\n",
       "      <td>11</td>\n",
       "      <td>7.0</td>\n",
       "    </tr>\n",
       "    <tr>\n",
       "      <th>3</th>\n",
       "      <td>28413</td>\n",
       "      <td>Bunny-Luv Organic Carrots</td>\n",
       "      <td>83</td>\n",
       "      <td>4</td>\n",
       "      <td>fresh vegetables</td>\n",
       "      <td>produce</td>\n",
       "      <td>1107.0</td>\n",
       "      <td>13.0</td>\n",
       "      <td>0.0</td>\n",
       "      <td>38259</td>\n",
       "      <td>prior</td>\n",
       "      <td>2</td>\n",
       "      <td>1</td>\n",
       "      <td>11</td>\n",
       "      <td>7.0</td>\n",
       "    </tr>\n",
       "    <tr>\n",
       "      <th>4</th>\n",
       "      <td>46149</td>\n",
       "      <td>Zero Calorie Cola</td>\n",
       "      <td>77</td>\n",
       "      <td>7</td>\n",
       "      <td>soft drinks</td>\n",
       "      <td>beverages</td>\n",
       "      <td>1107.0</td>\n",
       "      <td>6.0</td>\n",
       "      <td>0.0</td>\n",
       "      <td>38259</td>\n",
       "      <td>prior</td>\n",
       "      <td>2</td>\n",
       "      <td>1</td>\n",
       "      <td>11</td>\n",
       "      <td>7.0</td>\n",
       "    </tr>\n",
       "  </tbody>\n",
       "</table>\n",
       "</div>"
      ],
      "text/plain": [
       "   product_id                product_name  aisle_id  department_id  \\\n",
       "0           1  Chocolate Sandwich Cookies        61             19   \n",
       "1        9007              Frosted Flakes       121             14   \n",
       "2       32689              Romaine Hearts       123              4   \n",
       "3       28413   Bunny-Luv Organic Carrots        83              4   \n",
       "4       46149           Zero Calorie Cola        77              7   \n",
       "\n",
       "                        aisle department  order_id  add_to_cart_order  \\\n",
       "0               cookies cakes     snacks    1107.0                7.0   \n",
       "1                      cereal  breakfast    1107.0               17.0   \n",
       "2  packaged vegetables fruits    produce    1107.0               16.0   \n",
       "3            fresh vegetables    produce    1107.0               13.0   \n",
       "4                 soft drinks  beverages    1107.0                6.0   \n",
       "\n",
       "   reordered  user_id eval_set  order_number  order_dow  order_hour_of_day  \\\n",
       "0        0.0    38259    prior             2          1                 11   \n",
       "1        0.0    38259    prior             2          1                 11   \n",
       "2        0.0    38259    prior             2          1                 11   \n",
       "3        0.0    38259    prior             2          1                 11   \n",
       "4        0.0    38259    prior             2          1                 11   \n",
       "\n",
       "   days_since_prior_order  \n",
       "0                     7.0  \n",
       "1                     7.0  \n",
       "2                     7.0  \n",
       "3                     7.0  \n",
       "4                     7.0  "
      ]
     },
     "execution_count": 68,
     "metadata": {},
     "output_type": "execute_result"
    }
   ],
   "source": [
    "orders_week.head()"
   ]
  },
  {
   "cell_type": "code",
   "execution_count": 70,
   "metadata": {},
   "outputs": [
    {
     "data": {
      "text/plain": [
       "21724519"
      ]
     },
     "execution_count": 70,
     "metadata": {},
     "output_type": "execute_result"
    }
   ],
   "source": [
    "n1=len(orders_week)\n",
    "n1"
   ]
  },
  {
   "cell_type": "code",
   "execution_count": 71,
   "metadata": {},
   "outputs": [
    {
     "data": {
      "text/plain": [
       "10709970"
      ]
     },
     "execution_count": 71,
     "metadata": {},
     "output_type": "execute_result"
    }
   ],
   "source": [
    "n2= len(orders_weekend)\n",
    "n2"
   ]
  },
  {
   "cell_type": "code",
   "execution_count": 72,
   "metadata": {},
   "outputs": [
    {
     "data": {
      "text/plain": [
       "6186911"
      ]
     },
     "execution_count": 72,
     "metadata": {},
     "output_type": "execute_result"
    }
   ],
   "source": [
    "orders_week_prod=orders_week[orders_week.department=='produce']\n",
    "n1_week_produce=len(orders_week_prod)\n",
    "n1_week_produce"
   ]
  },
  {
   "cell_type": "code",
   "execution_count": 73,
   "metadata": {},
   "outputs": [
    {
     "data": {
      "text/plain": [
       "3292380"
      ]
     },
     "execution_count": 73,
     "metadata": {},
     "output_type": "execute_result"
    }
   ],
   "source": [
    "orders_weekend_prod=orders_weekend[orders_weekend.department=='produce']\n",
    "n2_weekend_produce=len(orders_weekend_prod)\n",
    "n2_weekend_produce"
   ]
  },
  {
   "cell_type": "code",
   "execution_count": 74,
   "metadata": {},
   "outputs": [
    {
     "data": {
      "text/plain": [
       "0.022623305498974067"
      ]
     },
     "execution_count": 74,
     "metadata": {},
     "output_type": "execute_result"
    }
   ],
   "source": [
    "#Proportion of orders with items from produce department\n",
    "#proportion of produ calls\n",
    "wc = n1_week_produce/n1\n",
    "#proportion of black calls\n",
    "bc = n2_weekend_produce/n2\n",
    "wc,bc\n",
    "diff = bc - wc\n",
    "diff"
   ]
  },
  {
   "cell_type": "code",
   "execution_count": 75,
   "metadata": {},
   "outputs": [
    {
     "data": {
      "text/plain": [
       "(0.28478932030670046, 0.3074126258056745)"
      ]
     },
     "execution_count": 75,
     "metadata": {},
     "output_type": "execute_result"
    }
   ],
   "source": [
    "wc,bc"
   ]
  },
  {
   "cell_type": "code",
   "execution_count": 76,
   "metadata": {},
   "outputs": [
    {
     "data": {
      "text/plain": [
       "0.2922596067414535"
      ]
     },
     "execution_count": 76,
     "metadata": {},
     "output_type": "execute_result"
    }
   ],
   "source": [
    "#calculate the p value\n",
    "#pooled sample proportion\n",
    "#Pooled sample proportion. Since the null hypothesis states that P1=P2, we use a pooled sample proportion (p) to compute the standard error of the sampling distribution.\n",
    "#p = (p1 * n1 + p2 * n2) / (n1 + n2)\n",
    "pooled  = (wc*n1+bc*n2)/(n1+n2)\n",
    "pooled\n"
   ]
  },
  {
   "cell_type": "code",
   "execution_count": 77,
   "metadata": {},
   "outputs": [],
   "source": [
    "# calculating the standard error\n",
    "se_pooled = np.sqrt((pooled*(1 - pooled)/(n1)) + (pooled*(1 - pooled) /(n2)))\n",
    "\n",
    "\n",
    "se_pooled_1 = np.sqrt( pooled * ( 1 - pooled ) * ((1/n1) + (1/n2) ))"
   ]
  },
  {
   "cell_type": "code",
   "execution_count": 78,
   "metadata": {},
   "outputs": [
    {
     "data": {
      "text/plain": [
       "(0.0001698070461738605, 0.0001698070461738605)"
      ]
     },
     "execution_count": 78,
     "metadata": {},
     "output_type": "execute_result"
    }
   ],
   "source": [
    "se_pooled,se_pooled_1"
   ]
  },
  {
   "cell_type": "code",
   "execution_count": 79,
   "metadata": {},
   "outputs": [
    {
     "name": "stdout",
     "output_type": "stream",
     "text": [
      "Z-score : 133.2  p-value : 0.000000000\n"
     ]
    }
   ],
   "source": [
    "# calculate the statistic\n",
    "z = (diff)/se_pooled #standard error calculated in CI above\n",
    "p_values = stats.norm.sf(abs(z))*2 #twoside\n",
    "print(\"Z-score : %0.1F  p-value : %0.9F\" % (z,p_values))"
   ]
  },
  {
   "cell_type": "code",
   "execution_count": 95,
   "metadata": {},
   "outputs": [
    {
     "data": {
      "text/plain": [
       "(array([6186911, 3292380]), array([21724519, 10709970]))"
      ]
     },
     "execution_count": 95,
     "metadata": {},
     "output_type": "execute_result"
    }
   ],
   "source": [
    "count = np.array([n1_week_produce, n2_weekend_produce])\n",
    "nobs = np.array([n1, n2])\n",
    "count,nobs"
   ]
  },
  {
   "cell_type": "code",
   "execution_count": 96,
   "metadata": {},
   "outputs": [
    {
     "data": {
      "text/plain": [
       "(-133.22948610631104, 0.0)"
      ]
     },
     "execution_count": 96,
     "metadata": {},
     "output_type": "execute_result"
    }
   ],
   "source": [
    "tstat,pval=ssp.proportions_ztest(count,nobs, value=0, alternative='two-sided', prop_var=False)\n",
    "tstat,pval"
   ]
  },
  {
   "cell_type": "markdown",
   "metadata": {},
   "source": [
    "Based on the p-value, we can say that there is difference between the proportion of orders with produce on weekend as compared to weekdays.\n",
    "\n",
    "The p-value can be 0 here because the data is probably not normally distributed.\n",
    "\n"
   ]
  },
  {
   "cell_type": "markdown",
   "metadata": {},
   "source": []
  }
 ],
 "metadata": {
  "kernelspec": {
   "display_name": "Python 3",
   "language": "python",
   "name": "python3"
  },
  "language_info": {
   "codemirror_mode": {
    "name": "ipython",
    "version": 3
   },
   "file_extension": ".py",
   "mimetype": "text/x-python",
   "name": "python",
   "nbconvert_exporter": "python",
   "pygments_lexer": "ipython3",
   "version": "3.6.5"
  }
 },
 "nbformat": 4,
 "nbformat_minor": 2
}
