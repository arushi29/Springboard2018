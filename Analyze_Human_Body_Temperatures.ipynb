{
 "cells": [
  {
   "cell_type": "markdown",
   "metadata": {},
   "source": [
    "# What is the True Normal Human Body Temperature? \n",
    "\n",
    "#### Background\n",
    "\n",
    "The mean normal body temperature was held to be 37$^{\\circ}$C or 98.6$^{\\circ}$F for more than 120 years since it was first conceptualized and reported by Carl Wunderlich in a famous 1868 book. But, is this value statistically correct?"
   ]
  },
  {
   "cell_type": "markdown",
   "metadata": {},
   "source": [
    "<h3>Exercises</h3>\n",
    "\n",
    "<p>In this exercise, you will analyze a dataset of human body temperatures and employ the concepts of hypothesis testing, confidence intervals, and statistical significance.</p>\n",
    "\n",
    "<p>Answer the following questions <b>in this notebook below and submit to your Github account</b>.</p> \n",
    "\n",
    "<ol>\n",
    "<li>  Is the distribution of body temperatures normal? \n",
    "    <ul>\n",
    "    <li> Although this is not a requirement for the Central Limit Theorem to hold (read the introduction on Wikipedia's page about the CLT carefully: https://en.wikipedia.org/wiki/Central_limit_theorem), it gives us some peace of mind that the population may also be normally distributed if we assume that this sample is representative of the population.\n",
    "    <li> Think about the way you're going to check for the normality of the distribution. Graphical methods are usually used first, but there are also other ways: https://en.wikipedia.org/wiki/Normality_test\n",
    "    </ul>\n",
    "<li>  Is the sample size large? Are the observations independent?\n",
    "    <ul>\n",
    "    <li> Remember that this is a condition for the Central Limit Theorem, and hence the statistical tests we are using, to apply.\n",
    "    </ul>\n",
    "<li>  Is the true population mean really 98.6 degrees F?\n",
    "    <ul>\n",
    "    <li> First, try a bootstrap hypothesis test.\n",
    "    <li> Now, let's try frequentist statistical testing. Would you use a one-sample or two-sample test? Why?\n",
    "    <li> In this situation, is it appropriate to use the $t$ or $z$ statistic? \n",
    "    <li> Now try using the other test. How is the result be different? Why?\n",
    "    </ul>\n",
    "<li>  Draw a small sample of size 10 from the data and repeat both frequentist tests. \n",
    "    <ul>\n",
    "    <li> Which one is the correct one to use? \n",
    "    <li> What do you notice? What does this tell you about the difference in application of the $t$ and $z$ statistic?\n",
    "    </ul>\n",
    "<li>  At what temperature should we consider someone's temperature to be \"abnormal\"?\n",
    "    <ul>\n",
    "    <li> As in the previous example, try calculating everything using the boostrap approach, as well as the frequentist approach.\n",
    "    <li> Start by computing the margin of error and confidence interval. When calculating the confidence interval, keep in mind that you should use the appropriate formula for one draw, and not N draws.\n",
    "    </ul>\n",
    "<li>  Is there a significant difference between males and females in normal temperature?\n",
    "    <ul>\n",
    "    <li> What testing approach did you use and why?\n",
    "    <li> Write a story with your conclusion in the context of the original problem.\n",
    "    </ul>\n",
    "</ol>\n",
    "\n",
    "You can include written notes in notebook cells using Markdown: \n",
    "   - In the control panel at the top, choose Cell > Cell Type > Markdown\n",
    "   - Markdown syntax: http://nestacms.com/docs/creating-content/markdown-cheat-sheet\n",
    "\n",
    "#### Resources\n",
    "\n",
    "+ Information and data sources: http://www.amstat.org/publications/jse/datasets/normtemp.txt, http://www.amstat.org/publications/jse/jse_data_archive.htm\n",
    "+ Markdown syntax: http://nestacms.com/docs/creating-content/markdown-cheat-sheet\n",
    "\n",
    "****"
   ]
  },
  {
   "cell_type": "code",
   "execution_count": 4,
   "metadata": {},
   "outputs": [],
   "source": [
    "import pandas as pd\n",
    "\n",
    "hbt = pd.read_csv('human_body_temperature.csv')"
   ]
  },
  {
   "cell_type": "code",
   "execution_count": 67,
   "metadata": {},
   "outputs": [],
   "source": [
    "# Your work here.\n",
    "#importing others\n",
    "import numpy as np\n",
    "import matplotlib.pyplot as plt\n",
    "import seaborn as sns\n",
    "color = sns.color_palette()\n",
    "from scipy.stats import norm\n",
    "from scipy.stats import normaltest\n",
    "from statsmodels.stats.weightstats import ztest\n",
    "from scipy import stats\n",
    "import math\n"
   ]
  },
  {
   "cell_type": "code",
   "execution_count": 6,
   "metadata": {},
   "outputs": [
    {
     "name": "stdout",
     "output_type": "stream",
     "text": [
      "<class 'pandas.core.frame.DataFrame'>\n",
      "RangeIndex: 130 entries, 0 to 129\n",
      "Data columns (total 3 columns):\n",
      "temperature    130 non-null float64\n",
      "gender         130 non-null object\n",
      "heart_rate     130 non-null float64\n",
      "dtypes: float64(2), object(1)\n",
      "memory usage: 3.1+ KB\n"
     ]
    },
    {
     "data": {
      "text/html": [
       "<div>\n",
       "<style scoped>\n",
       "    .dataframe tbody tr th:only-of-type {\n",
       "        vertical-align: middle;\n",
       "    }\n",
       "\n",
       "    .dataframe tbody tr th {\n",
       "        vertical-align: top;\n",
       "    }\n",
       "\n",
       "    .dataframe thead th {\n",
       "        text-align: right;\n",
       "    }\n",
       "</style>\n",
       "<table border=\"1\" class=\"dataframe\">\n",
       "  <thead>\n",
       "    <tr style=\"text-align: right;\">\n",
       "      <th></th>\n",
       "      <th>temperature</th>\n",
       "      <th>gender</th>\n",
       "      <th>heart_rate</th>\n",
       "    </tr>\n",
       "  </thead>\n",
       "  <tbody>\n",
       "    <tr>\n",
       "      <th>0</th>\n",
       "      <td>99.3</td>\n",
       "      <td>F</td>\n",
       "      <td>68.0</td>\n",
       "    </tr>\n",
       "    <tr>\n",
       "      <th>1</th>\n",
       "      <td>98.4</td>\n",
       "      <td>F</td>\n",
       "      <td>81.0</td>\n",
       "    </tr>\n",
       "    <tr>\n",
       "      <th>2</th>\n",
       "      <td>97.8</td>\n",
       "      <td>M</td>\n",
       "      <td>73.0</td>\n",
       "    </tr>\n",
       "    <tr>\n",
       "      <th>3</th>\n",
       "      <td>99.2</td>\n",
       "      <td>F</td>\n",
       "      <td>66.0</td>\n",
       "    </tr>\n",
       "    <tr>\n",
       "      <th>4</th>\n",
       "      <td>98.0</td>\n",
       "      <td>F</td>\n",
       "      <td>73.0</td>\n",
       "    </tr>\n",
       "  </tbody>\n",
       "</table>\n",
       "</div>"
      ],
      "text/plain": [
       "   temperature gender  heart_rate\n",
       "0         99.3      F        68.0\n",
       "1         98.4      F        81.0\n",
       "2         97.8      M        73.0\n",
       "3         99.2      F        66.0\n",
       "4         98.0      F        73.0"
      ]
     },
     "execution_count": 6,
     "metadata": {},
     "output_type": "execute_result"
    }
   ],
   "source": [
    "#Checking the file loaded\n",
    "hbt.info()\n",
    "hbt.head()\n",
    "# 130 rows"
   ]
  },
  {
   "cell_type": "code",
   "execution_count": 8,
   "metadata": {},
   "outputs": [
    {
     "data": {
      "text/markdown": [
       "**Question 1 - Is the distribution of body temperatures normal?**"
      ],
      "text/plain": [
       "<IPython.core.display.Markdown object>"
      ]
     },
     "metadata": {},
     "output_type": "display_data"
    }
   ],
   "source": [
    "#Question 1  - Is the distribution of body temperatures normal?\n",
    "#One of the best ways to check this is by drawing a graph of 130 entries\n",
    "from IPython.display import Markdown, display\n",
    "def printmd(string):\n",
    "    display(Markdown(string))\n",
    "\n",
    "printmd(\"**Question 1 - Is the distribution of body temperatures normal?**\")\n"
   ]
  },
  {
   "cell_type": "code",
   "execution_count": 18,
   "metadata": {},
   "outputs": [],
   "source": [
    "# draw a graph of the temperatures\n",
    "hbt_sort = hbt.temperature.sort_values()\n",
    "bin_val = np.arange(start=hbt_sort.min(), stop=hbt_sort.max(), step=.05)\n",
    "mean_hbt, std_hbt = hbt_sort.mean(),hbt_sort.std()\n",
    "p=norm.pdf(hbt_sort,mean_hbt,std_hbt)"
   ]
  },
  {
   "cell_type": "code",
   "execution_count": 26,
   "metadata": {},
   "outputs": [
    {
     "name": "stderr",
     "output_type": "stream",
     "text": [
      "/Users/abhinavmathur/anaconda3/lib/python3.6/site-packages/matplotlib/axes/_axes.py:6462: UserWarning: The 'normed' kwarg is deprecated, and has been replaced by the 'density' kwarg.\n",
      "  warnings.warn(\"The 'normed' kwarg is deprecated, and has been \"\n"
     ]
    },
    {
     "data": {
      "image/png": "[encoded data removed]",
      "text/plain": [
       "<Figure size 432x288 with 1 Axes>"
      ]
     },
     "metadata": {},
     "output_type": "display_data"
    },
    {
     "name": "stdout",
     "output_type": "stream",
     "text": [
      "chi-square statistic: 2.703801433319203\n",
      "p value = 0.2587479863488254\n"
     ]
    },
    {
     "data": {
      "text/markdown": [
       "**Answer 1 - As p > Alpha, the distribution is normal**"
      ],
      "text/plain": [
       "<IPython.core.display.Markdown object>"
      ]
     },
     "metadata": {},
     "output_type": "display_data"
    }
   ],
   "source": [
    "plt.xlabel('Temperature')\n",
    "plt.title('Distribution of Temperature')\n",
    "n,bins,patches= plt.hist(hbt_sort,bins=bin_val,normed=True,stacked=True)\n",
    "plt.plot(hbt_sort, p)\n",
    "plt.show()\n",
    "#Also checking the normalecy using the function\n",
    "chi_stat, p_val = normaltest(df['temperature'])\n",
    "\n",
    "print('chi-square statistic:',chi_stat)\n",
    "print('p value =',p_val)\n",
    "printmd(\"**Answer 1 - As p > Alpha, the distribution is normal**\")"
   ]
  },
  {
   "cell_type": "code",
   "execution_count": 22,
   "metadata": {},
   "outputs": [
    {
     "data": {
      "text/markdown": [
       "**Question 2 - Is the sample size large? Are the observations independent? **"
      ],
      "text/plain": [
       "<IPython.core.display.Markdown object>"
      ]
     },
     "metadata": {},
     "output_type": "display_data"
    }
   ],
   "source": [
    "printmd(\"**Question 2 - Is the sample size large? Are the observations independent? **\")"
   ]
  },
  {
   "cell_type": "code",
   "execution_count": 27,
   "metadata": {},
   "outputs": [
    {
     "name": "stdout",
     "output_type": "stream",
     "text": [
      "<class 'pandas.core.frame.DataFrame'>\n",
      "RangeIndex: 130 entries, 0 to 129\n",
      "Data columns (total 3 columns):\n",
      "temperature    130 non-null float64\n",
      "gender         130 non-null object\n",
      "heart_rate     130 non-null float64\n",
      "dtypes: float64(2), object(1)\n",
      "memory usage: 3.1+ KB\n"
     ]
    }
   ],
   "source": [
    "# as per CLT, if sample size (n>30) Sample size is large\n",
    "hbt.info()"
   ]
  },
  {
   "cell_type": "code",
   "execution_count": 29,
   "metadata": {},
   "outputs": [
    {
     "data": {
      "text/markdown": [
       "**Since the number of records is > 30, the sample size is large**"
      ],
      "text/plain": [
       "<IPython.core.display.Markdown object>"
      ]
     },
     "metadata": {},
     "output_type": "display_data"
    }
   ],
   "source": [
    "printmd(\"**Answer 2 - Since the number of records is > 30, the sample size is large**\")"
   ]
  },
  {
   "cell_type": "code",
   "execution_count": 32,
   "metadata": {},
   "outputs": [
    {
     "data": {
      "text/markdown": [
       "**Question 3 - Is the true population mean really 98.6 degrees F?**"
      ],
      "text/plain": [
       "<IPython.core.display.Markdown object>"
      ]
     },
     "metadata": {},
     "output_type": "display_data"
    },
    {
     "data": {
      "text/markdown": [
       "First, try a bootstrap hypothesis test.Now, let's try frequentist statistical testing."
      ],
      "text/plain": [
       "<IPython.core.display.Markdown object>"
      ]
     },
     "metadata": {},
     "output_type": "display_data"
    },
    {
     "data": {
      "text/markdown": [
       " Would you use a one-sample or two-sample test? Why?"
      ],
      "text/plain": [
       "<IPython.core.display.Markdown object>"
      ]
     },
     "metadata": {},
     "output_type": "display_data"
    },
    {
     "data": {
      "text/markdown": [
       "In this situation, is it appropriate to use the  tt  or  zz  statistic?"
      ],
      "text/plain": [
       "<IPython.core.display.Markdown object>"
      ]
     },
     "metadata": {},
     "output_type": "display_data"
    },
    {
     "data": {
      "text/markdown": [
       "Now try using the other test. How is the result be different? Why?"
      ],
      "text/plain": [
       "<IPython.core.display.Markdown object>"
      ]
     },
     "metadata": {},
     "output_type": "display_data"
    }
   ],
   "source": [
    "printmd(\"**Question 3 - Is the true population mean really 98.6 degrees F?**\")\n",
    "printmd(\"First, try a bootstrap hypothesis test.Now, let's try frequentist statistical testing.\")\n",
    "printmd(\" Would you use a one-sample or two-sample test? Why?\")\n",
    "printmd(\"In this situation, is it appropriate to use the  tt  or  zz  statistic?\")\n",
    "printmd(\"Now try using the other test. How is the result be different? Why?\")"
   ]
  },
  {
   "cell_type": "code",
   "execution_count": 33,
   "metadata": {},
   "outputs": [
    {
     "data": {
      "text/plain": [
       "Ttest_1sampResult(statistic=-5.454823292364077, pvalue=2.410632041561008e-07)"
      ]
     },
     "execution_count": 33,
     "metadata": {},
     "output_type": "execute_result"
    }
   ],
   "source": [
    "# One sample test is used when we know that the observations are independent\n",
    "# Two sample test is used when we are not sure if the observations are independent\n",
    "# Since we know from #2 that the observations are independent, we will do one sample test\n",
    "# We use t-statistic when \n",
    "# a) the sample observations follow a Normal distribution\n",
    "# b) the sample size n is large\n",
    "# c) we do not know the population standard deviation\n",
    "#hence we will use t -statisitic\n",
    "scipy.stats.ttest_1samp(hbt_sort,98.6)"
   ]
  },
  {
   "cell_type": "code",
   "execution_count": 34,
   "metadata": {},
   "outputs": [
    {
     "data": {
      "text/markdown": [
       "The null hypothesis is rejected. The true population mean is not 98.6 degrees F"
      ],
      "text/plain": [
       "<IPython.core.display.Markdown object>"
      ]
     },
     "metadata": {},
     "output_type": "display_data"
    }
   ],
   "source": [
    "# p-value can be used to conclude about the true population\n",
    "#lets say the null hypothesis is that the true population mean is 98.6\n",
    "# in this case, as p < alpha, we can reject the null hypothesis test \n",
    "# this means that the true population means is not 98.6\n",
    "printmd(\"The null hypothesis is rejected. The true population mean is not 98.6 degrees F\")"
   ]
  },
  {
   "cell_type": "code",
   "execution_count": 39,
   "metadata": {},
   "outputs": [
    {
     "data": {
      "text/plain": [
       "(-5.454823292364077, 4.902157014113424e-08)"
      ]
     },
     "execution_count": 39,
     "metadata": {},
     "output_type": "execute_result"
    }
   ],
   "source": [
    "#lets try using z test\n",
    "ztest(x1=hbt_sort, value = 98.6)"
   ]
  },
  {
   "cell_type": "code",
   "execution_count": 40,
   "metadata": {},
   "outputs": [
    {
     "data": {
      "text/markdown": [
       "From Z test as well, the null hypothesis is rejected. The true population mean is not 98.6 degrees F"
      ],
      "text/plain": [
       "<IPython.core.display.Markdown object>"
      ]
     },
     "metadata": {},
     "output_type": "display_data"
    }
   ],
   "source": [
    "#p value is still less than alpha\n",
    "# the conclusion remains the same\n",
    "printmd(\"From Z test as well, the null hypothesis is rejected. The true population mean is not 98.6 degrees F\")"
   ]
  },
  {
   "cell_type": "code",
   "execution_count": 42,
   "metadata": {},
   "outputs": [
    {
     "data": {
      "text/markdown": [
       "**Question 4  - Draw a small sample of size 10 from the data and repeat both frequentist tests.**"
      ],
      "text/plain": [
       "<IPython.core.display.Markdown object>"
      ]
     },
     "metadata": {},
     "output_type": "display_data"
    },
    {
     "data": {
      "text/markdown": [
       "Which one is the correct one to use?"
      ],
      "text/plain": [
       "<IPython.core.display.Markdown object>"
      ]
     },
     "metadata": {},
     "output_type": "display_data"
    },
    {
     "name": "stdout",
     "output_type": "stream",
     "text": [
      "What do you notice? What does this tell you about the difference in application of the  tt  and  zz  statistic\n"
     ]
    }
   ],
   "source": [
    "printmd(\"**Question 4  - Draw a small sample of size 10 from the data and repeat both frequentist tests.**\")\n",
    "printmd(\"Which one is the correct one to use?\")\n",
    "print(\"What do you notice? What does this tell you about the difference in application of the  tt  and  zz  statistic\")"
   ]
  },
  {
   "cell_type": "code",
   "execution_count": 55,
   "metadata": {},
   "outputs": [],
   "source": [
    "# create a smaller data frame of size 10\n",
    "hbt_sort_10 = np.random.choice(hbt_sort, size=10)"
   ]
  },
  {
   "cell_type": "code",
   "execution_count": 56,
   "metadata": {},
   "outputs": [
    {
     "data": {
      "text/plain": [
       "Ttest_1sampResult(statistic=-2.3312939554782623, pvalue=0.04465241249805269)"
      ]
     },
     "execution_count": 56,
     "metadata": {},
     "output_type": "execute_result"
    }
   ],
   "source": [
    "#conduct t-test and z-test\n",
    "scipy.stats.ttest_1samp(hbt_sort_10,98.6)"
   ]
  },
  {
   "cell_type": "code",
   "execution_count": 57,
   "metadata": {},
   "outputs": [
    {
     "name": "stdout",
     "output_type": "stream",
     "text": [
      "z-statistic: -2.3312939554782623\n",
      "p value = 0.019737864736624356\n"
     ]
    }
   ],
   "source": [
    "# z-test\n",
    "z_stat, p_val = ztest(x1= hbt_sort_10, value = 98.6)\n",
    "\n",
    "print('z-statistic:',z_stat)\n",
    "print('p value =',p_val)"
   ]
  },
  {
   "cell_type": "code",
   "execution_count": 58,
   "metadata": {},
   "outputs": [
    {
     "data": {
      "text/markdown": [
       "**Answer 4  - Both the t-tests and z-tests were significant for the given sample**"
      ],
      "text/plain": [
       "<IPython.core.display.Markdown object>"
      ]
     },
     "metadata": {},
     "output_type": "display_data"
    }
   ],
   "source": [
    "#Both the t-test and Z- test were significant\n",
    "printmd(\"**Answer 4  - Both the t-tests and z-tests were significant for the given sample**\")"
   ]
  },
  {
   "cell_type": "code",
   "execution_count": 59,
   "metadata": {},
   "outputs": [
    {
     "data": {
      "text/markdown": [
       "**Question 5  - At what temperature should we consider someone's temperature to be abnormal?**"
      ],
      "text/plain": [
       "<IPython.core.display.Markdown object>"
      ]
     },
     "metadata": {},
     "output_type": "display_data"
    },
    {
     "data": {
      "text/markdown": [
       "As in the previous example, try calculating everything using the boostrap approach, as well as the frequentist approach."
      ],
      "text/plain": [
       "<IPython.core.display.Markdown object>"
      ]
     },
     "metadata": {},
     "output_type": "display_data"
    },
    {
     "data": {
      "text/markdown": [
       "Start by computing the margin of error and confidence interval. "
      ],
      "text/plain": [
       "<IPython.core.display.Markdown object>"
      ]
     },
     "metadata": {},
     "output_type": "display_data"
    },
    {
     "data": {
      "text/markdown": [
       "When calculating the confidence interval, keep in mind that you"
      ],
      "text/plain": [
       "<IPython.core.display.Markdown object>"
      ]
     },
     "metadata": {},
     "output_type": "display_data"
    },
    {
     "data": {
      "text/markdown": [
       "should use the appropriate formula for one draw, and not N draws"
      ],
      "text/plain": [
       "<IPython.core.display.Markdown object>"
      ]
     },
     "metadata": {},
     "output_type": "display_data"
    }
   ],
   "source": [
    "printmd(\"**Question 5  - At what temperature should we consider someone's temperature to be abnormal?**\")\n",
    "printmd(\"As in the previous example, try calculating everything using the boostrap approach, as well as the frequentist approach.\")\n",
    "printmd(\"Start by computing the margin of error and confidence interval. \")\n",
    "printmd(\"When calculating the confidence interval, keep in mind that you\")\n",
    "printmd(\"should use the appropriate formula for one draw, and not N draws\")"
   ]
  },
  {
   "cell_type": "code",
   "execution_count": 60,
   "metadata": {},
   "outputs": [
    {
     "name": "stdout",
     "output_type": "stream",
     "text": [
      "T-statistic is -5.454823292364077\n",
      "P-value is 2.410632041561008e-07\n"
     ]
    }
   ],
   "source": [
    "# calculating the margin of error\n",
    "#Margin of error = Critical value x Standard deviation\n",
    "t_val,p_val= scipy.stats.ttest_1samp(hbt_sort,98.6)\n",
    "print(\"T-statistic is\",t_val)\n",
    "print(\"P-value is\",p_val)"
   ]
  },
  {
   "cell_type": "code",
   "execution_count": 66,
   "metadata": {},
   "outputs": [
    {
     "name": "stdout",
     "output_type": "stream",
     "text": [
      "Margin of error is -0.3494175138693317\n"
     ]
    }
   ],
   "source": [
    "#std_temp = np.std(df['temperature'])\n",
    "n=len(hbt_sort)\n",
    "moe=(t_val*np.std(hbt_sort))/np.sqrt(n)\n",
    "print(\"Margin of error is\",moe)"
   ]
  },
  {
   "cell_type": "code",
   "execution_count": 69,
   "metadata": {},
   "outputs": [
    {
     "name": "stdout",
     "output_type": "stream",
     "text": [
      "95% confidence interval is  (96.81775582674823, 99.6807057117133)\n"
     ]
    }
   ],
   "source": [
    "#Calculating the confidence interval\n",
    "conf_int_hbt = stats.norm.interval(alpha=0.95, loc=np.mean(hbt_sort), scale=np.std(hbt_sort))\n",
    "\n",
    "print('95% confidence interval is ',conf_int_hbt)"
   ]
  },
  {
   "cell_type": "code",
   "execution_count": 71,
   "metadata": {},
   "outputs": [
    {
     "data": {
      "text/markdown": [
       "**Question 6 - Is there a significant difference between males and females in normal temperature?**"
      ],
      "text/plain": [
       "<IPython.core.display.Markdown object>"
      ]
     },
     "metadata": {},
     "output_type": "display_data"
    },
    {
     "data": {
      "text/markdown": [
       "What testing approach did you use and why?"
      ],
      "text/plain": [
       "<IPython.core.display.Markdown object>"
      ]
     },
     "metadata": {},
     "output_type": "display_data"
    },
    {
     "data": {
      "text/markdown": [
       "Write a story with your conclusion in the context of the original problem."
      ],
      "text/plain": [
       "<IPython.core.display.Markdown object>"
      ]
     },
     "metadata": {},
     "output_type": "display_data"
    }
   ],
   "source": [
    "printmd(\"**Question 6 - Is there a significant difference between males and females in normal temperature?**\")\n",
    "printmd(\"What testing approach did you use and why?\")\n",
    "printmd(\"Write a story with your conclusion in the context of the original problem.\")"
   ]
  },
  {
   "cell_type": "code",
   "execution_count": 72,
   "metadata": {},
   "outputs": [
    {
     "name": "stdout",
     "output_type": "stream",
     "text": [
      "Mean body temp of male samples:  98.1046153846154\n",
      "Mean body temp of female samples:  98.39384615384613\n",
      "The T-Statistic is 2 with a p-value of 0.023938264182934196\n"
     ]
    }
   ],
   "source": [
    "# Since we are comparing two different groups here, we are going to use the two sample test\n",
    "hbt_male_temps = hbt.temperature[hbt.gender == 'M']\n",
    "hbt_female_temps = hbt.temperature[hbt.gender == 'F']\n",
    "\n",
    "print('Mean body temp of male samples: ', np.mean(hbt_male_temps))\n",
    "print('Mean body temp of female samples: ', np.mean(hbt_female_temps))\n",
    "\n",
    "g_ttest, g_pval = stats.ttest_ind(a=hbt_male_temps, b=hbt_female_temps, equal_var=False)\n",
    "print('The T-Statistic is %d with a p-value of %s' %(abs(g_ttest), g_pval))"
   ]
  },
  {
   "cell_type": "code",
   "execution_count": 73,
   "metadata": {},
   "outputs": [
    {
     "data": {
      "text/markdown": [
       "There is a statistical difference between normal temperatures of males and females"
      ],
      "text/plain": [
       "<IPython.core.display.Markdown object>"
      ]
     },
     "metadata": {},
     "output_type": "display_data"
    },
    {
     "data": {
      "text/markdown": [
       "this means that our conclusion for previous questions may have been different if we would have taken samples of either ony males or only females"
      ],
      "text/plain": [
       "<IPython.core.display.Markdown object>"
      ]
     },
     "metadata": {},
     "output_type": "display_data"
    }
   ],
   "source": [
    "#Since p < alpha, it means that our null hypothesis that there is no difference between normal temperatures of males and\n",
    "#females can be rejected.\n",
    "# this means that there is statistical difference between normal temperatures of males and females\n",
    "printmd(\"There is a statistical difference between normal temperatures of males and females\")\n",
    "printmd(\"This means that our conclusion for previous questions may have been different if we would have taken samples of either ony males or only females\")"
   ]
  },
  {
   "cell_type": "code",
   "execution_count": null,
   "metadata": {},
   "outputs": [],
   "source": []
  }
 ],
 "metadata": {
  "kernelspec": {
   "display_name": "Python 3",
   "language": "python",
   "name": "python3"
  },
  "language_info": {
   "codemirror_mode": {
    "name": "ipython",
    "version": 3
   },
   "file_extension": ".py",
   "mimetype": "text/x-python",
   "name": "python",
   "nbconvert_exporter": "python",
   "pygments_lexer": "ipython3",
   "version": "3.6.5"
  }
 },
 "nbformat": 4,
 "nbformat_minor": 1
}
