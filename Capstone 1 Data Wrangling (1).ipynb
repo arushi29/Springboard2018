{
 "cells": [
  {
   "cell_type": "code",
   "execution_count": 1,
   "metadata": {},
   "outputs": [],
   "source": [
    "# Capston Instacart Market Basket Analysis\n",
    "#Instacart is a U.S. based company that provides same-day grocery delivery service. \n",
    "#It provides the customers an option to choose the grocery store they want their groceries from, \n",
    "#browse through the item list, select the items and get it hand-delivered by a personal shopper. \n",
    "#The company offers the services both through their website as well their app.\n",
    "\n",
    "#They have over 3 million transactional data of multiple shoppers located across the United States. \n",
    "#Instacart wants to leverage this data to build a model that can predict which previously purchased products \n",
    "#will be in a user’s next order. \n",
    "#This will help the company strategize where to show the previously ordered items on their page or app.  \n",
    "#The model will also help recommend items for users while they are browsing.\n",
    "\n",
    "\n",
    "# Data Wrangling for Instacart Market Basket Analysis\n",
    "#reading the files one by one"
   ]
  },
  {
   "cell_type": "code",
   "execution_count": 106,
   "metadata": {},
   "outputs": [],
   "source": [
    "#Step 1 - Import the necessary modules\n",
    "import pandas as pd\n",
    "import numpy as np\n",
    "import matplotlib.pyplot as plt\n",
    "import seaborn as sns\n",
    "color = sns.color_palette()\n",
    "\n",
    "#1\n",
    "#aisles.csv\n"
   ]
  },
  {
   "cell_type": "code",
   "execution_count": 3,
   "metadata": {},
   "outputs": [],
   "source": [
    "#Step 2 - reading the files\n",
    "#files provided - aisles, products,departments,orders_prior,orders\n",
    "\n",
    "aisles = pd.read_csv('aisles.csv')"
   ]
  },
  {
   "cell_type": "code",
   "execution_count": 7,
   "metadata": {},
   "outputs": [
    {
     "name": "stdout",
     "output_type": "stream",
     "text": [
      "<class 'pandas.core.frame.DataFrame'>\n",
      "RangeIndex: 134 entries, 0 to 133\n",
      "Data columns (total 2 columns):\n",
      "aisle_id    134 non-null int64\n",
      "aisle       134 non-null object\n",
      "dtypes: int64(1), object(1)\n",
      "memory usage: 2.2+ KB\n"
     ]
    }
   ],
   "source": [
    "aisles.info()\n",
    "#aisles has no null values or missing values"
   ]
  },
  {
   "cell_type": "code",
   "execution_count": 9,
   "metadata": {},
   "outputs": [],
   "source": [
    "#2 importing the departments file\n",
    "departments= pd.read_csv('departments.csv')"
   ]
  },
  {
   "cell_type": "code",
   "execution_count": 10,
   "metadata": {},
   "outputs": [
    {
     "name": "stdout",
     "output_type": "stream",
     "text": [
      "<class 'pandas.core.frame.DataFrame'>\n",
      "RangeIndex: 21 entries, 0 to 20\n",
      "Data columns (total 2 columns):\n",
      "department_id    21 non-null int64\n",
      "department       21 non-null object\n",
      "dtypes: int64(1), object(1)\n",
      "memory usage: 416.0+ bytes\n"
     ]
    }
   ],
   "source": [
    "departments.info()\n",
    "#no null values"
   ]
  },
  {
   "cell_type": "code",
   "execution_count": 11,
   "metadata": {},
   "outputs": [],
   "source": [
    "#3 importing the products file\n",
    "#products\n",
    "products =pd.read_csv(\"products.csv\")"
   ]
  },
  {
   "cell_type": "code",
   "execution_count": 12,
   "metadata": {},
   "outputs": [
    {
     "name": "stdout",
     "output_type": "stream",
     "text": [
      "<class 'pandas.core.frame.DataFrame'>\n",
      "RangeIndex: 49688 entries, 0 to 49687\n",
      "Data columns (total 4 columns):\n",
      "product_id       49688 non-null int64\n",
      "product_name     49688 non-null object\n",
      "aisle_id         49688 non-null int64\n",
      "department_id    49688 non-null int64\n",
      "dtypes: int64(3), object(1)\n",
      "memory usage: 1.5+ MB\n"
     ]
    }
   ],
   "source": [
    "products.info()\n",
    "#no null values"
   ]
  },
  {
   "cell_type": "code",
   "execution_count": 18,
   "metadata": {},
   "outputs": [],
   "source": [
    "#4 orders_prior\n",
    "#importing the orders_prior file\n",
    "orders_prior =pd.read_csv(\"order_products__prior.csv\")"
   ]
  },
  {
   "cell_type": "code",
   "execution_count": 20,
   "metadata": {},
   "outputs": [
    {
     "name": "stdout",
     "output_type": "stream",
     "text": [
      "<class 'pandas.core.frame.DataFrame'>\n",
      "RangeIndex: 32434489 entries, 0 to 32434488\n",
      "Data columns (total 4 columns):\n",
      "order_id             int64\n",
      "product_id           int64\n",
      "add_to_cart_order    int64\n",
      "reordered            int64\n",
      "dtypes: int64(4)\n",
      "memory usage: 989.8 MB\n"
     ]
    }
   ],
   "source": [
    "orders_prior.info()"
   ]
  },
  {
   "cell_type": "code",
   "execution_count": 75,
   "metadata": {},
   "outputs": [
    {
     "name": "stdout",
     "output_type": "stream",
     "text": [
      "<class 'pandas.core.frame.DataFrame'>\n",
      "RangeIndex: 1384617 entries, 0 to 1384616\n",
      "Data columns (total 4 columns):\n",
      "order_id             1384617 non-null int64\n",
      "product_id           1384617 non-null int64\n",
      "add_to_cart_order    1384617 non-null int64\n",
      "reordered            1384617 non-null int64\n",
      "dtypes: int64(4)\n",
      "memory usage: 42.3 MB\n"
     ]
    }
   ],
   "source": [
    "#5\n",
    "#importing the orders_train file\n",
    "order_train = pd.read_csv('order_products__train.csv')\n",
    "order_train.info()"
   ]
  },
  {
   "cell_type": "code",
   "execution_count": 72,
   "metadata": {},
   "outputs": [
    {
     "name": "stdout",
     "output_type": "stream",
     "text": [
      "<class 'pandas.core.frame.DataFrame'>\n",
      "RangeIndex: 3421083 entries, 0 to 3421082\n",
      "Data columns (total 7 columns):\n",
      "order_id                  int64\n",
      "user_id                   int64\n",
      "eval_set                  object\n",
      "order_number              int64\n",
      "order_dow                 int64\n",
      "order_hour_of_day         int64\n",
      "days_since_prior_order    float64\n",
      "dtypes: float64(1), int64(5), object(1)\n",
      "memory usage: 182.7+ MB\n"
     ]
    },
    {
     "data": {
      "text/plain": [
       "array(['prior', 'train', 'test'], dtype=object)"
      ]
     },
     "execution_count": 72,
     "metadata": {},
     "output_type": "execute_result"
    }
   ],
   "source": [
    "# 6\n",
    "# importing orders file\n",
    "order_products_train\n",
    "orders.info()\n",
    "orders.head()\n",
    "orders.eval_set.unique()"
   ]
  },
  {
   "cell_type": "code",
   "execution_count": 23,
   "metadata": {},
   "outputs": [],
   "source": [
    "# Step 3  - Merging files\n",
    "#merging product with aisle and department files\n",
    "\n",
    "products_a = pd.merge(products,aisles,on='aisle_id')"
   ]
  },
  {
   "cell_type": "code",
   "execution_count": 24,
   "metadata": {},
   "outputs": [
    {
     "name": "stdout",
     "output_type": "stream",
     "text": [
      "<class 'pandas.core.frame.DataFrame'>\n",
      "Int64Index: 49688 entries, 0 to 49687\n",
      "Data columns (total 5 columns):\n",
      "product_id       49688 non-null int64\n",
      "product_name     49688 non-null object\n",
      "aisle_id         49688 non-null int64\n",
      "department_id    49688 non-null int64\n",
      "aisle            49688 non-null object\n",
      "dtypes: int64(3), object(2)\n",
      "memory usage: 2.3+ MB\n"
     ]
    }
   ],
   "source": [
    "products_a.info()"
   ]
  },
  {
   "cell_type": "code",
   "execution_count": 40,
   "metadata": {},
   "outputs": [],
   "source": [
    "# merging with products file\n",
    "products_all =pd.merge(products_a,departments,left_on = 'department_id'\n",
    "                       ,right_on = 'department_id',how='left',suffixes = ('_x', '_y'))"
   ]
  },
  {
   "cell_type": "code",
   "execution_count": 41,
   "metadata": {},
   "outputs": [
    {
     "data": {
      "text/html": [
       "<div>\n",
       "<style scoped>\n",
       "    .dataframe tbody tr th:only-of-type {\n",
       "        vertical-align: middle;\n",
       "    }\n",
       "\n",
       "    .dataframe tbody tr th {\n",
       "        vertical-align: top;\n",
       "    }\n",
       "\n",
       "    .dataframe thead th {\n",
       "        text-align: right;\n",
       "    }\n",
       "</style>\n",
       "<table border=\"1\" class=\"dataframe\">\n",
       "  <thead>\n",
       "    <tr style=\"text-align: right;\">\n",
       "      <th></th>\n",
       "      <th>product_id</th>\n",
       "      <th>product_name</th>\n",
       "      <th>aisle_id</th>\n",
       "      <th>department_id</th>\n",
       "      <th>aisle</th>\n",
       "      <th>department</th>\n",
       "    </tr>\n",
       "  </thead>\n",
       "  <tbody>\n",
       "    <tr>\n",
       "      <th>0</th>\n",
       "      <td>1</td>\n",
       "      <td>Chocolate Sandwich Cookies</td>\n",
       "      <td>61</td>\n",
       "      <td>19</td>\n",
       "      <td>cookies cakes</td>\n",
       "      <td>snacks</td>\n",
       "    </tr>\n",
       "    <tr>\n",
       "      <th>1</th>\n",
       "      <td>78</td>\n",
       "      <td>Nutter Butter Cookie Bites Go-Pak</td>\n",
       "      <td>61</td>\n",
       "      <td>19</td>\n",
       "      <td>cookies cakes</td>\n",
       "      <td>snacks</td>\n",
       "    </tr>\n",
       "    <tr>\n",
       "      <th>2</th>\n",
       "      <td>102</td>\n",
       "      <td>Danish Butter Cookies</td>\n",
       "      <td>61</td>\n",
       "      <td>19</td>\n",
       "      <td>cookies cakes</td>\n",
       "      <td>snacks</td>\n",
       "    </tr>\n",
       "    <tr>\n",
       "      <th>3</th>\n",
       "      <td>172</td>\n",
       "      <td>Gluten Free All Natural Chocolate Chip Cookies</td>\n",
       "      <td>61</td>\n",
       "      <td>19</td>\n",
       "      <td>cookies cakes</td>\n",
       "      <td>snacks</td>\n",
       "    </tr>\n",
       "    <tr>\n",
       "      <th>4</th>\n",
       "      <td>285</td>\n",
       "      <td>Mini Nilla Wafers Munch Pack</td>\n",
       "      <td>61</td>\n",
       "      <td>19</td>\n",
       "      <td>cookies cakes</td>\n",
       "      <td>snacks</td>\n",
       "    </tr>\n",
       "  </tbody>\n",
       "</table>\n",
       "</div>"
      ],
      "text/plain": [
       "   product_id                                    product_name  aisle_id  \\\n",
       "0           1                      Chocolate Sandwich Cookies        61   \n",
       "1          78               Nutter Butter Cookie Bites Go-Pak        61   \n",
       "2         102                           Danish Butter Cookies        61   \n",
       "3         172  Gluten Free All Natural Chocolate Chip Cookies        61   \n",
       "4         285                    Mini Nilla Wafers Munch Pack        61   \n",
       "\n",
       "   department_id          aisle department  \n",
       "0             19  cookies cakes     snacks  \n",
       "1             19  cookies cakes     snacks  \n",
       "2             19  cookies cakes     snacks  \n",
       "3             19  cookies cakes     snacks  \n",
       "4             19  cookies cakes     snacks  "
      ]
     },
     "execution_count": 41,
     "metadata": {},
     "output_type": "execute_result"
    }
   ],
   "source": [
    "products_all.head()"
   ]
  },
  {
   "cell_type": "code",
   "execution_count": 42,
   "metadata": {},
   "outputs": [
    {
     "name": "stdout",
     "output_type": "stream",
     "text": [
      "<class 'pandas.core.frame.DataFrame'>\n",
      "Int64Index: 49688 entries, 0 to 49687\n",
      "Data columns (total 6 columns):\n",
      "product_id       49688 non-null int64\n",
      "product_name     49688 non-null object\n",
      "aisle_id         49688 non-null int64\n",
      "department_id    49688 non-null int64\n",
      "aisle            49688 non-null object\n",
      "department       49688 non-null object\n",
      "dtypes: int64(3), object(3)\n",
      "memory usage: 2.7+ MB\n"
     ]
    }
   ],
   "source": [
    "products_all.info()"
   ]
  },
  {
   "cell_type": "code",
   "execution_count": 49,
   "metadata": {},
   "outputs": [
    {
     "name": "stdout",
     "output_type": "stream",
     "text": [
      "Products all dimensions : (49688, 6)\n",
      "Missing values in column product_id in products all tables : 0\n",
      "Missing values in column product_name in products all tables : 0\n",
      "Missing values in column aisle_id in products all tables : 0\n",
      "Missing values in column department_id in products all tables : 0\n",
      "Missing values in column aisle in products all tables : 0\n",
      "Missing values in column department in products all tables : 0\n"
     ]
    }
   ],
   "source": [
    "#Step 4 - Looking for null or missing values\n",
    "#Looking for unique and duplicate items in all new dataframes\n",
    "\n",
    "#products_all\n",
    "\n",
    "print(\"Products all dimensions : {}\".format(products_all.shape))\n",
    "print(\"Missing values in column product_id in products all tables : {}\".\n",
    "      format(products_all['product_id'].isnull().sum()))\n",
    "print(\"Missing values in column product_name in products all tables : {}\".\n",
    "      format(products_all['product_name'].isnull().sum()))\n",
    "print(\"Missing values in column aisle_id in products all tables : {}\".\n",
    "      format(products_all['aisle_id'].isnull().sum()))\n",
    "print(\"Missing values in column department_id in products all tables : {}\".\n",
    "      format(products_all['department_id'].isnull().sum()))\n",
    "print(\"Missing values in column aisle in products all tables : {}\".\n",
    "      format(products_all['aisle'].isnull().sum()))\n",
    "print(\"Missing values in column department in products all tables : {}\".\n",
    "      format(products_all['department'].isnull().sum()))"
   ]
  },
  {
   "cell_type": "code",
   "execution_count": 51,
   "metadata": {},
   "outputs": [
    {
     "name": "stdout",
     "output_type": "stream",
     "text": [
      "<class 'pandas.core.frame.DataFrame'>\n",
      "RangeIndex: 32434489 entries, 0 to 32434488\n",
      "Data columns (total 4 columns):\n",
      "order_id             int64\n",
      "product_id           int64\n",
      "add_to_cart_order    int64\n",
      "reordered            int64\n",
      "dtypes: int64(4)\n",
      "memory usage: 989.8 MB\n",
      "Products all dimensions : (32434489, 4)\n",
      "Missing values in column product_id in orders_prior all tables : 0\n",
      "Missing values in column order_id in orders_prior all tables : 0\n",
      "Missing values in column add_to_cart_order in orders_prior all tables : 0\n",
      "Missing values in column reordered in orders_prior all tables : 0\n"
     ]
    }
   ],
   "source": [
    "#checking orders_prior info\n",
    "orders_prior.info()\n",
    "print(\"Products all dimensions : {}\".format(orders_prior.shape))\n",
    "print(\"Missing values in column product_id in orders_prior all tables : {}\".\n",
    "      format(orders_prior['product_id'].isnull().sum()))\n",
    "print(\"Missing values in column order_id in orders_prior all tables : {}\".\n",
    "      format(orders_prior['order_id'].isnull().sum()))\n",
    "print(\"Missing values in column add_to_cart_order in orders_prior all tables : {}\".\n",
    "      format(orders_prior['add_to_cart_order'].isnull().sum()))\n",
    "print(\"Missing values in column reordered in orders_prior all tables : {}\".\n",
    "      format(orders_prior['reordered'].isnull().sum()))"
   ]
  },
  {
   "cell_type": "code",
   "execution_count": 61,
   "metadata": {},
   "outputs": [
    {
     "name": "stdout",
     "output_type": "stream",
     "text": [
      "<class 'pandas.core.frame.DataFrame'>\n",
      "Int64Index: 49688 entries, 0 to 49687\n",
      "Data columns (total 6 columns):\n",
      "product_id       49688 non-null int64\n",
      "product_name     49688 non-null object\n",
      "aisle_id         49688 non-null int64\n",
      "department_id    49688 non-null int64\n",
      "aisle            49688 non-null object\n",
      "department       49688 non-null object\n",
      "dtypes: int64(3), object(3)\n",
      "memory usage: 2.7+ MB\n"
     ]
    }
   ],
   "source": [
    "products_all.info()\n",
    "products_all=products_all.drop_duplicates()"
   ]
  },
  {
   "cell_type": "code",
   "execution_count": 62,
   "metadata": {},
   "outputs": [
    {
     "name": "stdout",
     "output_type": "stream",
     "text": [
      "<class 'pandas.core.frame.DataFrame'>\n",
      "Int64Index: 32434489 entries, 0 to 32434488\n",
      "Data columns (total 4 columns):\n",
      "order_id             int64\n",
      "product_id           int64\n",
      "add_to_cart_order    int64\n",
      "reordered            int64\n",
      "dtypes: int64(4)\n",
      "memory usage: 1.2 GB\n"
     ]
    }
   ],
   "source": [
    "orders_prior=orders_prior.drop_duplicates()\n",
    "orders_prior.info()"
   ]
  },
  {
   "cell_type": "code",
   "execution_count": 57,
   "metadata": {},
   "outputs": [
    {
     "data": {
      "text/html": [
       "<div>\n",
       "<style scoped>\n",
       "    .dataframe tbody tr th:only-of-type {\n",
       "        vertical-align: middle;\n",
       "    }\n",
       "\n",
       "    .dataframe tbody tr th {\n",
       "        vertical-align: top;\n",
       "    }\n",
       "\n",
       "    .dataframe thead th {\n",
       "        text-align: right;\n",
       "    }\n",
       "</style>\n",
       "<table border=\"1\" class=\"dataframe\">\n",
       "  <thead>\n",
       "    <tr style=\"text-align: right;\">\n",
       "      <th></th>\n",
       "      <th>product_id</th>\n",
       "      <th>product_name</th>\n",
       "      <th>aisle_id</th>\n",
       "      <th>department_id</th>\n",
       "      <th>aisle</th>\n",
       "      <th>department</th>\n",
       "      <th>order_id</th>\n",
       "      <th>add_to_cart_order</th>\n",
       "      <th>reordered</th>\n",
       "    </tr>\n",
       "  </thead>\n",
       "  <tbody>\n",
       "    <tr>\n",
       "      <th>0</th>\n",
       "      <td>1</td>\n",
       "      <td>Chocolate Sandwich Cookies</td>\n",
       "      <td>61</td>\n",
       "      <td>19</td>\n",
       "      <td>cookies cakes</td>\n",
       "      <td>snacks</td>\n",
       "      <td>1107.0</td>\n",
       "      <td>7.0</td>\n",
       "      <td>0.0</td>\n",
       "    </tr>\n",
       "    <tr>\n",
       "      <th>1</th>\n",
       "      <td>1</td>\n",
       "      <td>Chocolate Sandwich Cookies</td>\n",
       "      <td>61</td>\n",
       "      <td>19</td>\n",
       "      <td>cookies cakes</td>\n",
       "      <td>snacks</td>\n",
       "      <td>5319.0</td>\n",
       "      <td>3.0</td>\n",
       "      <td>1.0</td>\n",
       "    </tr>\n",
       "    <tr>\n",
       "      <th>2</th>\n",
       "      <td>1</td>\n",
       "      <td>Chocolate Sandwich Cookies</td>\n",
       "      <td>61</td>\n",
       "      <td>19</td>\n",
       "      <td>cookies cakes</td>\n",
       "      <td>snacks</td>\n",
       "      <td>7540.0</td>\n",
       "      <td>4.0</td>\n",
       "      <td>1.0</td>\n",
       "    </tr>\n",
       "    <tr>\n",
       "      <th>3</th>\n",
       "      <td>1</td>\n",
       "      <td>Chocolate Sandwich Cookies</td>\n",
       "      <td>61</td>\n",
       "      <td>19</td>\n",
       "      <td>cookies cakes</td>\n",
       "      <td>snacks</td>\n",
       "      <td>9228.0</td>\n",
       "      <td>2.0</td>\n",
       "      <td>0.0</td>\n",
       "    </tr>\n",
       "    <tr>\n",
       "      <th>4</th>\n",
       "      <td>1</td>\n",
       "      <td>Chocolate Sandwich Cookies</td>\n",
       "      <td>61</td>\n",
       "      <td>19</td>\n",
       "      <td>cookies cakes</td>\n",
       "      <td>snacks</td>\n",
       "      <td>9273.0</td>\n",
       "      <td>30.0</td>\n",
       "      <td>0.0</td>\n",
       "    </tr>\n",
       "  </tbody>\n",
       "</table>\n",
       "</div>"
      ],
      "text/plain": [
       "   product_id                product_name  aisle_id  department_id  \\\n",
       "0           1  Chocolate Sandwich Cookies        61             19   \n",
       "1           1  Chocolate Sandwich Cookies        61             19   \n",
       "2           1  Chocolate Sandwich Cookies        61             19   \n",
       "3           1  Chocolate Sandwich Cookies        61             19   \n",
       "4           1  Chocolate Sandwich Cookies        61             19   \n",
       "\n",
       "           aisle department  order_id  add_to_cart_order  reordered  \n",
       "0  cookies cakes     snacks    1107.0                7.0        0.0  \n",
       "1  cookies cakes     snacks    5319.0                3.0        1.0  \n",
       "2  cookies cakes     snacks    7540.0                4.0        1.0  \n",
       "3  cookies cakes     snacks    9228.0                2.0        0.0  \n",
       "4  cookies cakes     snacks    9273.0               30.0        0.0  "
      ]
     },
     "execution_count": 57,
     "metadata": {},
     "output_type": "execute_result"
    }
   ],
   "source": [
    "#Step 6 - creating a master dataset with orders_prior and products\n",
    "#merge products_all and orders_prior table\n",
    "\n",
    "orders_prior_p =pd.merge(products_all,orders_prior,left_on = 'product_id',\n",
    "                         right_on = 'product_id',how='left',suffixes = ('_x', '_y'))\n",
    "orders_prior_p.head()"
   ]
  },
  {
   "cell_type": "code",
   "execution_count": 65,
   "metadata": {},
   "outputs": [],
   "source": [
    "orders_prior_p=orders_prior_p.drop_duplicates()"
   ]
  },
  {
   "cell_type": "code",
   "execution_count": 66,
   "metadata": {},
   "outputs": [
    {
     "name": "stdout",
     "output_type": "stream",
     "text": [
      "<class 'pandas.core.frame.DataFrame'>\n",
      "Int64Index: 32434500 entries, 0 to 32434499\n",
      "Data columns (total 9 columns):\n",
      "product_id           int64\n",
      "product_name         object\n",
      "aisle_id             int64\n",
      "department_id        int64\n",
      "aisle                object\n",
      "department           object\n",
      "order_id             float64\n",
      "add_to_cart_order    float64\n",
      "reordered            float64\n",
      "dtypes: float64(3), int64(3), object(3)\n",
      "memory usage: 2.4+ GB\n"
     ]
    }
   ],
   "source": [
    "orders_prior_p.info()"
   ]
  },
  {
   "cell_type": "code",
   "execution_count": 78,
   "metadata": {},
   "outputs": [
    {
     "name": "stdout",
     "output_type": "stream",
     "text": [
      "<class 'pandas.core.frame.DataFrame'>\n",
      "Int64Index: 1395182 entries, 0 to 1395181\n",
      "Data columns (total 9 columns):\n",
      "product_id           1395182 non-null int64\n",
      "product_name         1395182 non-null object\n",
      "aisle_id             1395182 non-null int64\n",
      "department_id        1395182 non-null int64\n",
      "aisle                1395182 non-null object\n",
      "department           1395182 non-null object\n",
      "order_id             1384617 non-null float64\n",
      "add_to_cart_order    1384617 non-null float64\n",
      "reordered            1384617 non-null float64\n",
      "dtypes: float64(3), int64(3), object(3)\n",
      "memory usage: 106.4+ MB\n"
     ]
    }
   ],
   "source": [
    "#merge products_all and orders_prior table\n",
    "orders_train_p =pd.merge(products_all,order_train,left_on = 'product_id',\n",
    "                         right_on = 'product_id',how='left',suffixes = ('_x', '_y'))\n",
    "orders_train_p.head()\n",
    "orders_train_p=orders_train_p.drop_duplicates()\n",
    "orders_train_p.info()"
   ]
  },
  {
   "cell_type": "code",
   "execution_count": 53,
   "metadata": {},
   "outputs": [
    {
     "name": "stdout",
     "output_type": "stream",
     "text": [
      "<class 'pandas.core.frame.DataFrame'>\n",
      "RangeIndex: 3421083 entries, 0 to 3421082\n",
      "Data columns (total 7 columns):\n",
      "order_id                  int64\n",
      "user_id                   int64\n",
      "eval_set                  object\n",
      "order_number              int64\n",
      "order_dow                 int64\n",
      "order_hour_of_day         int64\n",
      "days_since_prior_order    float64\n",
      "dtypes: float64(1), int64(5), object(1)\n",
      "memory usage: 182.7+ MB\n"
     ]
    },
    {
     "data": {
      "text/html": [
       "<div>\n",
       "<style scoped>\n",
       "    .dataframe tbody tr th:only-of-type {\n",
       "        vertical-align: middle;\n",
       "    }\n",
       "\n",
       "    .dataframe tbody tr th {\n",
       "        vertical-align: top;\n",
       "    }\n",
       "\n",
       "    .dataframe thead th {\n",
       "        text-align: right;\n",
       "    }\n",
       "</style>\n",
       "<table border=\"1\" class=\"dataframe\">\n",
       "  <thead>\n",
       "    <tr style=\"text-align: right;\">\n",
       "      <th></th>\n",
       "      <th>order_id</th>\n",
       "      <th>user_id</th>\n",
       "      <th>eval_set</th>\n",
       "      <th>order_number</th>\n",
       "      <th>order_dow</th>\n",
       "      <th>order_hour_of_day</th>\n",
       "      <th>days_since_prior_order</th>\n",
       "    </tr>\n",
       "  </thead>\n",
       "  <tbody>\n",
       "    <tr>\n",
       "      <th>0</th>\n",
       "      <td>2539329</td>\n",
       "      <td>1</td>\n",
       "      <td>prior</td>\n",
       "      <td>1</td>\n",
       "      <td>2</td>\n",
       "      <td>8</td>\n",
       "      <td>NaN</td>\n",
       "    </tr>\n",
       "    <tr>\n",
       "      <th>1</th>\n",
       "      <td>2398795</td>\n",
       "      <td>1</td>\n",
       "      <td>prior</td>\n",
       "      <td>2</td>\n",
       "      <td>3</td>\n",
       "      <td>7</td>\n",
       "      <td>15.0</td>\n",
       "    </tr>\n",
       "    <tr>\n",
       "      <th>2</th>\n",
       "      <td>473747</td>\n",
       "      <td>1</td>\n",
       "      <td>prior</td>\n",
       "      <td>3</td>\n",
       "      <td>3</td>\n",
       "      <td>12</td>\n",
       "      <td>21.0</td>\n",
       "    </tr>\n",
       "    <tr>\n",
       "      <th>3</th>\n",
       "      <td>2254736</td>\n",
       "      <td>1</td>\n",
       "      <td>prior</td>\n",
       "      <td>4</td>\n",
       "      <td>4</td>\n",
       "      <td>7</td>\n",
       "      <td>29.0</td>\n",
       "    </tr>\n",
       "    <tr>\n",
       "      <th>4</th>\n",
       "      <td>431534</td>\n",
       "      <td>1</td>\n",
       "      <td>prior</td>\n",
       "      <td>5</td>\n",
       "      <td>4</td>\n",
       "      <td>15</td>\n",
       "      <td>28.0</td>\n",
       "    </tr>\n",
       "  </tbody>\n",
       "</table>\n",
       "</div>"
      ],
      "text/plain": [
       "   order_id  user_id eval_set  order_number  order_dow  order_hour_of_day  \\\n",
       "0   2539329        1    prior             1          2                  8   \n",
       "1   2398795        1    prior             2          3                  7   \n",
       "2    473747        1    prior             3          3                 12   \n",
       "3   2254736        1    prior             4          4                  7   \n",
       "4    431534        1    prior             5          4                 15   \n",
       "\n",
       "   days_since_prior_order  \n",
       "0                     NaN  \n",
       "1                    15.0  \n",
       "2                    21.0  \n",
       "3                    29.0  \n",
       "4                    28.0  "
      ]
     },
     "execution_count": 53,
     "metadata": {},
     "output_type": "execute_result"
    }
   ],
   "source": [
    "#checking orders_prior info\n",
    "orders.info()"
   ]
  },
  {
   "cell_type": "markdown",
   "metadata": {},
   "source": [
    "<B> Exploratory Analysis"
   ]
  },
  {
   "cell_type": "code",
   "execution_count": 145,
   "metadata": {},
   "outputs": [
    {
     "name": "stdout",
     "output_type": "stream",
     "text": [
      "<class 'pandas.core.frame.DataFrame'>\n",
      "Int64Index: 1395182 entries, 0 to 1395181\n",
      "Data columns (total 9 columns):\n",
      "product_id           1395182 non-null int64\n",
      "product_name         1395182 non-null object\n",
      "aisle_id             1395182 non-null int64\n",
      "department_id        1395182 non-null int64\n",
      "aisle                1395182 non-null object\n",
      "department           1395182 non-null object\n",
      "order_id             1384617 non-null float64\n",
      "add_to_cart_order    1384617 non-null float64\n",
      "reordered            1384617 non-null float64\n",
      "dtypes: float64(3), int64(3), object(3)\n",
      "memory usage: 146.4+ MB\n"
     ]
    },
    {
     "data": {
      "image/png": "[encoded data removed]",
      "text/plain": [
       "<Figure size 432x288 with 1 Axes>"
      ]
     },
     "metadata": {},
     "output_type": "display_data"
    }
   ],
   "source": [
    "#look for Outliers\n",
    "orders_train_p.info()\n",
    "#calculate number of orders by departments\n",
    "cnt_1 = orders_train_p.department.value_counts()\n",
    "sns.barplot(cnt_1.index, cnt_1.values, alpha=0.8, color=color[2])\n",
    "plt.ylabel('Number of Orders', fontsize=12)\n",
    "plt.xlabel('Department Names', fontsize=12)\n",
    "plt.title('Count of Orders by department', fontsize=15)\n",
    "plt.xticks(rotation='vertical')\n",
    "plt.show()\n",
    "\n",
    "\n",
    "#s=orders_train_p.groupby(\"department\",axis=0).agg(np.size)\n",
    "#pd.value_counts(s).plot(kind=\"bar\")\n",
    "#print(s)\n",
    "#s = orders_train_p.groupby(\"departments\")#.ids.agg(lambda x:len(x.unique()))\n",
    "#pd.value_counts(s).plot(kind=\"bar\")"
   ]
  },
  {
   "cell_type": "code",
   "execution_count": 113,
   "metadata": {},
   "outputs": [
    {
     "data": {
      "image/png": "[encoded data removed]",
      "text/plain": [
       "<Figure size 432x288 with 1 Axes>"
      ]
     },
     "metadata": {},
     "output_type": "display_data"
    }
   ],
   "source": [
    "#calculate number of orders by aisles\n",
    "cnt_1 = orders_train_p.aisle.value_counts()\n",
    "sns.barplot(cnt_1.index, cnt_1.values, alpha=0.2, color=color[3])\n",
    "plt.ylabel('Number of Orders', fontsize=8)\n",
    "plt.xlabel('Aisle Names', fontsize=8)\n",
    "plt.title('Count of Orders by Aisle', fontsize=15)\n",
    "plt.xticks(rotation='vertical')\n",
    "plt.show()\n",
    "# as we can see below, the below graph is not very help"
   ]
  },
  {
   "cell_type": "code",
   "execution_count": 122,
   "metadata": {},
   "outputs": [
    {
     "data": {
      "text/plain": [
       "eval_set\n",
       "prior    3214874\n",
       "test       75000\n",
       "train     131209\n",
       "Name: user_id, dtype: int64"
      ]
     },
     "execution_count": 122,
     "metadata": {},
     "output_type": "execute_result"
    }
   ],
   "source": [
    "# we have already noticed that there are three files with order information - order_priors, order_train and orders\n",
    "# we need to find the difference between these three files\n",
    "#orders_train_p.info() #1,395,182 rows\n",
    "#orders_prior_p.info() #32,434,500 rows\n",
    "#orders.info()         #3,421,083 rows\n",
    "\n",
    "# it looks like orders_prior is huge dataset which has all the prior customer orders.\n",
    "#checking orders.info()\n",
    "count_total = orders.groupby(\"eval_set\")[\"user_id\"].agg(np.size)\n",
    "count_total\n"
   ]
  },
  {
   "cell_type": "code",
   "execution_count": 128,
   "metadata": {},
   "outputs": [
    {
     "name": "stdout",
     "output_type": "stream",
     "text": [
      "<class 'pandas.core.frame.DataFrame'>\n",
      "Int64Index: 1395182 entries, 0 to 1395181\n",
      "Data columns (total 9 columns):\n",
      "product_id           1395182 non-null int64\n",
      "product_name         1395182 non-null object\n",
      "aisle_id             1395182 non-null int64\n",
      "department_id        1395182 non-null int64\n",
      "aisle                1395182 non-null object\n",
      "department           1395182 non-null object\n",
      "order_id             1384617 non-null float64\n",
      "add_to_cart_order    1384617 non-null float64\n",
      "reordered            1384617 non-null float64\n",
      "dtypes: float64(3), int64(3), object(3)\n",
      "memory usage: 146.4+ MB\n"
     ]
    }
   ],
   "source": [
    "orders_train_p.info()"
   ]
  },
  {
   "cell_type": "code",
   "execution_count": 134,
   "metadata": {},
   "outputs": [
    {
     "name": "stdout",
     "output_type": "stream",
     "text": [
      "<class 'pandas.core.frame.DataFrame'>\n",
      "Int64Index: 1384617 entries, 0 to 1384616\n",
      "Data columns (total 15 columns):\n",
      "product_id                1384617 non-null int64\n",
      "product_name              1384617 non-null object\n",
      "aisle_id                  1384617 non-null int64\n",
      "department_id             1384617 non-null int64\n",
      "aisle                     1384617 non-null object\n",
      "department                1384617 non-null object\n",
      "order_id                  1384617 non-null float64\n",
      "add_to_cart_order         1384617 non-null float64\n",
      "reordered                 1384617 non-null float64\n",
      "user_id                   1384617 non-null int64\n",
      "eval_set                  1384617 non-null object\n",
      "order_number              1384617 non-null int64\n",
      "order_dow                 1384617 non-null int64\n",
      "order_hour_of_day         1384617 non-null int64\n",
      "days_since_prior_order    1384617 non-null float64\n",
      "dtypes: float64(4), int64(7), object(4)\n",
      "memory usage: 169.0+ MB\n",
      "<class 'pandas.core.frame.DataFrame'>\n",
      "Int64Index: 1384617 entries, 0 to 1384616\n",
      "Data columns (total 15 columns):\n",
      "product_id                1384617 non-null int64\n",
      "product_name              1384617 non-null object\n",
      "aisle_id                  1384617 non-null int64\n",
      "department_id             1384617 non-null int64\n",
      "aisle                     1384617 non-null object\n",
      "department                1384617 non-null object\n",
      "order_id                  1384617 non-null float64\n",
      "add_to_cart_order         1384617 non-null float64\n",
      "reordered                 1384617 non-null float64\n",
      "user_id                   1384617 non-null int64\n",
      "eval_set                  1384617 non-null object\n",
      "order_number              1384617 non-null int64\n",
      "order_dow                 1384617 non-null int64\n",
      "order_hour_of_day         1384617 non-null int64\n",
      "days_since_prior_order    1384617 non-null float64\n",
      "dtypes: float64(4), int64(7), object(4)\n",
      "memory usage: 169.0+ MB\n"
     ]
    }
   ],
   "source": [
    "#orders table - merge with orders_train to get other variables\n",
    "orders_all = pd.merge(orders_train_p,orders,left_on= 'order_id',right_on='order_id',how=\"inner\")\n",
    "orders_all.info()"
   ]
  },
  {
   "cell_type": "code",
   "execution_count": 135,
   "metadata": {},
   "outputs": [
    {
     "data": {
      "text/plain": [
       "eval_set\n",
       "train    1384617\n",
       "Name: user_id, dtype: int64"
      ]
     },
     "execution_count": 135,
     "metadata": {},
     "output_type": "execute_result"
    }
   ],
   "source": [
    "count_total = orders_all.groupby(\"eval_set\")[\"user_id\"].agg(np.size)\n",
    "count_total"
   ]
  },
  {
   "cell_type": "code",
   "execution_count": 140,
   "metadata": {},
   "outputs": [
    {
     "data": {
      "text/plain": [
       "eval_set\n",
       "train    131209\n",
       "Name: user_id, dtype: int64"
      ]
     },
     "execution_count": 140,
     "metadata": {},
     "output_type": "execute_result"
    }
   ],
   "source": [
    "#subset the training dataset from the orders table\n",
    "\n",
    "orders_train_sub = orders[(orders['eval_set'] == 'train')]\n",
    "#df[(df['nationality'] == \"USA\")]\n",
    "count_total = orders_train_sub.groupby(\"eval_set\")[\"user_id\"].agg(np.size)\n",
    "count_total"
   ]
  },
  {
   "cell_type": "code",
   "execution_count": 141,
   "metadata": {},
   "outputs": [
    {
     "name": "stdout",
     "output_type": "stream",
     "text": [
      "<class 'pandas.core.frame.DataFrame'>\n",
      "Int64Index: 131209 entries, 10 to 3421082\n",
      "Data columns (total 7 columns):\n",
      "order_id                  131209 non-null int64\n",
      "user_id                   131209 non-null int64\n",
      "eval_set                  131209 non-null object\n",
      "order_number              131209 non-null int64\n",
      "order_dow                 131209 non-null int64\n",
      "order_hour_of_day         131209 non-null int64\n",
      "days_since_prior_order    131209 non-null float64\n",
      "dtypes: float64(1), int64(5), object(1)\n",
      "memory usage: 8.0+ MB\n"
     ]
    }
   ],
   "source": [
    "orders_train_sub.info()"
   ]
  },
  {
   "cell_type": "code",
   "execution_count": 142,
   "metadata": {},
   "outputs": [],
   "source": [
    "#join with order_train table to get other details\n",
    "\n",
    "orders_train_sub1 =pd.merge(orders_train_sub,orders_train_p,left_on= 'order_id',right_on='order_id',how=\"left\")"
   ]
  },
  {
   "cell_type": "code",
   "execution_count": 144,
   "metadata": {},
   "outputs": [
    {
     "name": "stdout",
     "output_type": "stream",
     "text": [
      "<class 'pandas.core.frame.DataFrame'>\n",
      "Int64Index: 1384617 entries, 0 to 1384616\n",
      "Data columns (total 15 columns):\n",
      "order_id                  1384617 non-null int64\n",
      "user_id                   1384617 non-null int64\n",
      "eval_set                  1384617 non-null object\n",
      "order_number              1384617 non-null int64\n",
      "order_dow                 1384617 non-null int64\n",
      "order_hour_of_day         1384617 non-null int64\n",
      "days_since_prior_order    1384617 non-null float64\n",
      "product_id                1384617 non-null int64\n",
      "product_name              1384617 non-null object\n",
      "aisle_id                  1384617 non-null int64\n",
      "department_id             1384617 non-null int64\n",
      "aisle                     1384617 non-null object\n",
      "department                1384617 non-null object\n",
      "add_to_cart_order         1384617 non-null float64\n",
      "reordered                 1384617 non-null float64\n",
      "dtypes: float64(3), int64(8), object(4)\n",
      "memory usage: 169.0+ MB\n"
     ]
    }
   ],
   "source": [
    "orders_train_sub1.info()"
   ]
  },
  {
   "cell_type": "code",
   "execution_count": 148,
   "metadata": {},
   "outputs": [
    {
     "name": "stdout",
     "output_type": "stream",
     "text": [
      "<class 'pandas.core.frame.DataFrame'>\n",
      "Int64Index: 1395182 entries, 0 to 1395181\n",
      "Data columns (total 9 columns):\n",
      "product_id           1395182 non-null int64\n",
      "product_name         1395182 non-null object\n",
      "aisle_id             1395182 non-null int64\n",
      "department_id        1395182 non-null int64\n",
      "aisle                1395182 non-null object\n",
      "department           1395182 non-null object\n",
      "order_id             1384617 non-null float64\n",
      "add_to_cart_order    1384617 non-null float64\n",
      "reordered            1384617 non-null float64\n",
      "dtypes: float64(3), int64(3), object(3)\n",
      "memory usage: 146.4+ MB\n"
     ]
    },
    {
     "data": {
      "image/png": "[encoded data removed]",
      "text/plain": [
       "<Figure size 432x288 with 1 Axes>"
      ]
     },
     "metadata": {},
     "output_type": "display_data"
    }
   ],
   "source": [
    "# explore the orders train dataset\n",
    "#orders_train_sub1\n",
    "\n",
    "orders_train_p.info()\n",
    "#calculate Count of Orders by hour of the day\n",
    "cnt_1 = orders_train_sub1.order_hour_of_day.value_counts()\n",
    "sns.barplot(cnt_1.index, cnt_1.values, alpha=0.8, color=color[4])\n",
    "plt.ylabel('Number of Orders', fontsize=12)\n",
    "plt.xlabel('Hour of the day', fontsize=12)\n",
    "plt.title('Count of Orders by hour of the day', fontsize=15)\n",
    "plt.xticks(rotation='vertical')\n",
    "plt.show()"
   ]
  },
  {
   "cell_type": "code",
   "execution_count": 153,
   "metadata": {},
   "outputs": [
    {
     "data": {
      "image/png": "[encoded data removed]",
      "text/plain": [
       "<Figure size 432x288 with 1 Axes>"
      ]
     },
     "metadata": {},
     "output_type": "display_data"
    }
   ],
   "source": [
    "#calculate Count of Orders by hour of the day\n",
    "cnt_1 = orders_train_sub1.order_dow.value_counts()\n",
    "sns.barplot(cnt_1.index, cnt_1.values, alpha=0.8, color=color[1])\n",
    "plt.ylabel('Number of Orders', fontsize=12)\n",
    "plt.xlabel('Day of the week', fontsize=12)\n",
    "plt.title('Count of Orders by day of the week', fontsize=15)\n",
    "plt.xticks(rotation='vertical')\n",
    "plt.show()"
   ]
  },
  {
   "cell_type": "code",
   "execution_count": 155,
   "metadata": {},
   "outputs": [
    {
     "data": {
      "image/png": "[encoded data removed]",
      "text/plain": [
       "<Figure size 432x288 with 1 Axes>"
      ]
     },
     "metadata": {},
     "output_type": "display_data"
    }
   ],
   "source": [
    "#calculate Count of Orders by re-order of the day\n",
    "cnt_1 = orders_train_sub1.days_since_prior_order.value_counts()\n",
    "sns.barplot(cnt_1.index, cnt_1.values, alpha=0.8, color=color[6])\n",
    "plt.ylabel('Number of Orders', fontsize=12)\n",
    "plt.xlabel('Re-order', fontsize=12)\n",
    "plt.title('Count of Orders by re-order', fontsize=15)\n",
    "plt.xticks(rotation='vertical')\n",
    "plt.show()"
   ]
  },
  {
   "cell_type": "code",
   "execution_count": null,
   "metadata": {},
   "outputs": [],
   "source": []
  }
 ],
 "metadata": {
  "kernelspec": {
   "display_name": "Python 3",
   "language": "python",
   "name": "python3"
  },
  "language_info": {
   "codemirror_mode": {
    "name": "ipython",
    "version": 3
   },
   "file_extension": ".py",
   "mimetype": "text/x-python",
   "name": "python",
   "nbconvert_exporter": "python",
   "pygments_lexer": "ipython3",
   "version": "3.6.5"
  }
 },
 "nbformat": 4,
 "nbformat_minor": 2
}
